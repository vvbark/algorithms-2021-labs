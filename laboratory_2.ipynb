{
 "cells": [
  {
   "cell_type": "code",
   "execution_count": 214,
   "metadata": {},
   "outputs": [],
   "source": [
    "import numpy as np\n",
    "from scipy import optimize\n",
    "import matplotlib.pyplot as plt\n",
    "import math\n",
    "import random"
   ]
  },
  {
   "cell_type": "code",
   "execution_count": 199,
   "metadata": {},
   "outputs": [],
   "source": [
    "def brute(func, limits, eps):\n",
    "    a, b = limits\n",
    "    n = int((b - a) / eps)\n",
    "    iteration = 0\n",
    "    evaluation = 0\n",
    "\n",
    "    min_y = float(\"inf\")\n",
    "    min_x = 0\n",
    "    \n",
    "    for k in range(n+1):\n",
    "        iteration += 1 # iter up\n",
    "        x = a + k * (b - a) / n\n",
    "        evaluation += 1\n",
    "        y = func( x ) # eval up\n",
    "        \n",
    "        if y < min_y:\n",
    "            min_y = y\n",
    "            min_x = x\n",
    "        \n",
    "    return min_x, min_y, iteration, evaluation\n",
    "\n",
    "\n",
    "def dichotomy(func, limits, eps):\n",
    "    a, b = limits\n",
    "    delta = eps / 2\n",
    "    \n",
    "    iteration = 0\n",
    "    evaluation = 0\n",
    "\n",
    "    while abs(a - b) >= eps:\n",
    "        \n",
    "        iteration += 1\n",
    "        evaluation += 2\n",
    "        \n",
    "        median = (a + b) / 2\n",
    "        x1, x2 = median - delta / 2, median + delta / 2\n",
    "        \n",
    "        f1, f2 = func( x1 ), func( x2 )\n",
    "        \n",
    "        if f1 <= f2:\n",
    "            b = x2\n",
    "        else:\n",
    "            a = x1\n",
    "           \n",
    "    min_x = (a + b) / 2\n",
    "    min_y = (f1 + f2) / 2\n",
    "        \n",
    "    return min_x, min_y, iteration, evaluation\n",
    "\n",
    "\n",
    "def golden(func, limits, eps):\n",
    "    a, b = limits\n",
    "    \n",
    "    flag = 0\n",
    "    \n",
    "    iteration = 0\n",
    "    evaluation = 0\n",
    "    \n",
    "    while abs(a - b) >= eps:\n",
    "        iteration += 1\n",
    "        \n",
    "        delta = (3 - math.sqrt(5)) * (b - a) / 2\n",
    "        \n",
    "        if flag == 0:\n",
    "            evaluation += 2\n",
    "            x1, x2 = a + delta, b - delta\n",
    "            f1, f2 = func( x1 ), func( x2 )\n",
    "        if flag == \"x2=x1\":\n",
    "            evaluation += 1\n",
    "            x1, x2 = a + delta, x1\n",
    "            f1, f2 = func( x1 ), f1\n",
    "        if flag == \"x1=x2\":\n",
    "            evaluation += 1\n",
    "            x1, x2 = x2, b - delta\n",
    "            f1, f2 = f2, func( x2 )\n",
    "\n",
    "        if f1 <= f2:\n",
    "            b = x2\n",
    "            flag = 'x2=x1'\n",
    "        else:\n",
    "            a = x1\n",
    "            flag = 'x1=x2'\n",
    "           \n",
    "    min_x = (a + b) / 2\n",
    "    min_y = (f1 + f2)  / 2\n",
    "    \n",
    "    return min_x, min_y, iteration, evaluation"
   ]
  },
  {
   "cell_type": "markdown",
   "metadata": {},
   "source": [
    "# Task 1"
   ]
  },
  {
   "cell_type": "code",
   "execution_count": 200,
   "metadata": {},
   "outputs": [],
   "source": [
    "def f1(x):\n",
    "    return np.power(x, 3)\n",
    "\n",
    "def f2(x):\n",
    "    return np.abs(x - 0.2)\n",
    "\n",
    "def f3(x):\n",
    "    return x * np.sin(1 / x)"
   ]
  },
  {
   "cell_type": "code",
   "execution_count": 201,
   "metadata": {},
   "outputs": [
    {
     "data": {
      "text/plain": [
       "(0.0, 0.0, 1001, 1001)"
      ]
     },
     "execution_count": 201,
     "metadata": {},
     "output_type": "execute_result"
    }
   ],
   "source": [
    "eps = 0.001\n",
    "\n",
    "br = brute(f1, (0, 1), eps)\n",
    "br"
   ]
  },
  {
   "cell_type": "code",
   "execution_count": 202,
   "metadata": {},
   "outputs": [
    {
     "data": {
      "text/plain": [
       "(0.22259631347656245, -0.21722919262931228, 11, 22)"
      ]
     },
     "execution_count": 202,
     "metadata": {},
     "output_type": "execute_result"
    }
   ],
   "source": [
    "eps = 0.001\n",
    "\n",
    "br = dichotomy(f3, (0.01, 1), eps)\n",
    "br"
   ]
  },
  {
   "cell_type": "code",
   "execution_count": 203,
   "metadata": {},
   "outputs": [
    {
     "data": {
      "text/plain": [
       "(0.22271959361960325, -0.21723265287228982, 15, 16)"
      ]
     },
     "execution_count": 203,
     "metadata": {},
     "output_type": "execute_result"
    }
   ],
   "source": [
    "eps = 0.001\n",
    "\n",
    "br = golden(f3, (0.01, 1), eps)\n",
    "br"
   ]
  },
  {
   "cell_type": "code",
   "execution_count": 160,
   "metadata": {},
   "outputs": [
    {
     "data": {
      "text/plain": [
       "[<matplotlib.lines.Line2D at 0x1f9bdae5550>]"
      ]
     },
     "execution_count": 160,
     "metadata": {},
     "output_type": "execute_result"
    },
    {
     "data": {
      "image/png": "[encoded data removed]",
      "text/plain": [
       "<Figure size 432x288 with 1 Axes>"
      ]
     },
     "metadata": {
      "needs_background": "light"
     },
     "output_type": "display_data"
    }
   ],
   "source": [
    "x = np.arange(0.01, 1, 0.01)\n",
    "plt.plot(x, f3(x))\n",
    "#plt.plot(len(x) * [0])"
   ]
  },
  {
   "cell_type": "markdown",
   "metadata": {},
   "source": [
    "# Task 2"
   ]
  },
  {
   "cell_type": "code",
   "execution_count": 571,
   "metadata": {},
   "outputs": [],
   "source": [
    "random.seed(1000)\n",
    "a, b = random.random(), random.random()\n",
    "\n",
    "max_x = 100\n",
    "\n",
    "x = np.array([k / 100 for k in np.arange(0, max_x + 1, 1)])\n",
    "y = np.array([a * x[k] + b + random.uniform(0, 1) for k in range(len(x))])"
   ]
  },
  {
   "cell_type": "code",
   "execution_count": 572,
   "metadata": {},
   "outputs": [
    {
     "data": {
      "text/plain": [
       "(-0.5, 3.0)"
      ]
     },
     "execution_count": 572,
     "metadata": {},
     "output_type": "execute_result"
    },
    {
     "data": {
      "image/png": "[encoded data removed]",
      "text/plain": [
       "<Figure size 432x288 with 1 Axes>"
      ]
     },
     "metadata": {
      "needs_background": "light"
     },
     "output_type": "display_data"
    }
   ],
   "source": [
    "plt.plot(x, y, '.b')\n",
    "plt.xlim(-0.5, 2)\n",
    "plt.ylim(-0.5, 3)"
   ]
  },
  {
   "cell_type": "code",
   "execution_count": 573,
   "metadata": {},
   "outputs": [],
   "source": [
    "def f_linear(x, a, b):\n",
    "    return a * x + b\n",
    "\n",
    "def f_rational(x, a, b):\n",
    "    return a / ( 1 + b * x )\n",
    "\n",
    "def least_squares(ab, func, data):\n",
    "    a, b = ab\n",
    "    x, y = data\n",
    "    return np.sum( (func(x, a, b) - y)**2) / x.shape[0]"
   ]
  },
  {
   "cell_type": "code",
   "execution_count": 574,
   "metadata": {},
   "outputs": [
    {
     "data": {
      "image/png": "[encoded data removed]",
      "text/plain": [
       "<Figure size 576x288 with 1 Axes>"
      ]
     },
     "metadata": {
      "needs_background": "light"
     },
     "output_type": "display_data"
    }
   ],
   "source": [
    "from matplotlib import cm\n",
    "from sklearn.linear_model import LinearRegression\n",
    "\n",
    "X = np.linspace(-50, 50, 100)\n",
    "Y = np.linspace(-50, 50, 100)\n",
    "\n",
    "Z = np.ones((X.shape[0], Y.shape[0]))\n",
    "for i in range(X.shape[0]):\n",
    "    for j in range(Y.shape[0]):\n",
    "        Z[i, j] = least_squares([X[i], Y[j]], f_linear, (x, y))\n",
    "\n",
    "X, Y = np.meshgrid(X, Y)\n",
    "fig = plt.figure(figsize=plt.figaspect(0.5))\n",
    "ax = fig.add_subplot(1, 2, 1, projection='3d')\n",
    "surf = ax.plot_surface(X, Y, Z, rstride=1, cstride=1, cmap=cm.coolwarm,\n",
    "                       linewidth=0, antialiased=False)"
   ]
  },
  {
   "cell_type": "code",
   "execution_count": 575,
   "metadata": {
    "scrolled": true
   },
   "outputs": [
    {
     "name": "stdout",
     "output_type": "stream",
     "text": [
      "Optimization terminated successfully.\n",
      "         Current function value: 0.086401\n",
      "         Iterations: 61\n",
      "         Function evaluations: 117\n"
     ]
    }
   ],
   "source": [
    "ab_init = [1, 1]\n",
    "opt_lin_1 = optimize.minimize(least_squares, ab_init, args=(f_linear, (x, y)), \n",
    "                            method='nelder-mead', options={'xatol': 1e-8, 'disp': True})\n",
    "a, b = opt_lin_1.x"
   ]
  },
  {
   "cell_type": "code",
   "execution_count": 576,
   "metadata": {},
   "outputs": [
    {
     "name": "stdout",
     "output_type": "stream",
     "text": [
      "Optimization terminated successfully.\n",
      "         Current function value: 0.088972\n",
      "         Iterations: 75\n",
      "         Function evaluations: 144\n"
     ]
    }
   ],
   "source": [
    "ab_init = [1, 1]\n",
    "opt_rat_1 = optimize.minimize(least_squares, ab_init, args=(f_rational, (x, y)), \n",
    "                            method='nelder-mead', options={'xatol': 1e-8, 'disp': True})\n",
    "a, b = opt_rat_1.x"
   ]
  },
  {
   "cell_type": "code",
   "execution_count": 581,
   "metadata": {},
   "outputs": [
    {
     "data": {
      "text/plain": [
       "[<matplotlib.lines.Line2D at 0x1f9ca7df700>]"
      ]
     },
     "execution_count": 581,
     "metadata": {},
     "output_type": "execute_result"
    },
    {
     "data": {
      "image/png": "[encoded data removed]",
      "text/plain": [
       "<Figure size 432x288 with 1 Axes>"
      ]
     },
     "metadata": {
      "needs_background": "light"
     },
     "output_type": "display_data"
    }
   ],
   "source": [
    "plt.plot(x, y, '.b')\n",
    "plt.xlim(-0.5, 1.5)\n",
    "plt.ylim(-0.5, 3)\n",
    "plt.plot(x, f_linear(x, opt_lin_1.x[0], opt_lin_1.x[1]), 'r')"
   ]
  },
  {
   "cell_type": "code",
   "execution_count": 582,
   "metadata": {},
   "outputs": [
    {
     "data": {
      "text/plain": [
       "[<matplotlib.lines.Line2D at 0x1f9c8dcc370>]"
      ]
     },
     "execution_count": 582,
     "metadata": {},
     "output_type": "execute_result"
    },
    {
     "data": {
      "image/png": "[encoded data removed]",
      "text/plain": [
       "<Figure size 432x288 with 1 Axes>"
      ]
     },
     "metadata": {
      "needs_background": "light"
     },
     "output_type": "display_data"
    }
   ],
   "source": [
    "plt.plot(x, y, '.b')\n",
    "plt.xlim(-0.5, 1.5)\n",
    "plt.ylim(-0.5, 3)\n",
    "plt.plot(x, f_rational(x, opt_rat_1.x[0], opt_rat_1.x[1]), 'r')"
   ]
  },
  {
   "cell_type": "code",
   "execution_count": null,
   "metadata": {},
   "outputs": [],
   "source": []
  }
 ],
 "metadata": {
  "kernelspec": {
   "display_name": "Python 3",
   "language": "python",
   "name": "python3"
  },
  "language_info": {
   "codemirror_mode": {
    "name": "ipython",
    "version": 3
   },
   "file_extension": ".py",
   "mimetype": "text/x-python",
   "name": "python",
   "nbconvert_exporter": "python",
   "pygments_lexer": "ipython3",
   "version": "3.8.4"
  }
 },
 "nbformat": 4,
 "nbformat_minor": 4
}
